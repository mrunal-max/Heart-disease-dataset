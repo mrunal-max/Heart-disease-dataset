{
 "cells": [
  {
   "cell_type": "code",
   "execution_count": 1,
   "id": "740e14f0",
   "metadata": {
    "_cell_guid": "b1076dfc-b9ad-4769-8c92-a6c4dae69d19",
    "_uuid": "8f2839f25d086af736a60e9eeb907d3b93b6e0e5",
    "execution": {
     "iopub.execute_input": "2021-10-16T09:11:18.565304Z",
     "iopub.status.busy": "2021-10-16T09:11:18.563969Z",
     "iopub.status.idle": "2021-10-16T09:11:19.433291Z",
     "shell.execute_reply": "2021-10-16T09:11:19.432517Z",
     "shell.execute_reply.started": "2021-10-16T08:56:15.426027Z"
    },
    "papermill": {
     "duration": 0.903483,
     "end_time": "2021-10-16T09:11:19.433508",
     "exception": false,
     "start_time": "2021-10-16T09:11:18.530025",
     "status": "completed"
    },
    "tags": []
   },
   "outputs": [
    {
     "name": "stdout",
     "output_type": "stream",
     "text": [
      "/kaggle/input/heart-disease-uci/heart.csv\n"
     ]
    }
   ],
   "source": [
    "# This Python 3 environment comes with many helpful analytics libraries installed\n",
    "# It is defined by the kaggle/python Docker image: https://github.com/kaggle/docker-python\n",
    "# For example, here's several helpful packages to load\n",
    "\n",
    "import numpy as np # linear algebra\n",
    "import pandas as pd # data processing, CSV file I/O (e.g. pd.read_csv)\n",
    "import matplotlib.pyplot as plt\n",
    "import seaborn as sns\n",
    "# Input data files are available in the read-only \"../input/\" directory\n",
    "# For example, running this (by clicking run or pressing Shift+Enter) will list all files under the input directory\n",
    "\n",
    "import os\n",
    "for dirname, _, filenames in os.walk('/kaggle/input'):\n",
    "    for filename in filenames:\n",
    "        print(os.path.join(dirname, filename))\n",
    "\n",
    "# You can write up to 20GB to the current directory (/kaggle/working/) that gets preserved as output when you create a version using \"Save & Run All\" \n",
    "# You can also write temporary files to /kaggle/temp/, but they won't be saved outside of the current session"
   ]
  },
  {
   "cell_type": "code",
   "execution_count": 2,
   "id": "2f54bb49",
   "metadata": {
    "execution": {
     "iopub.execute_input": "2021-10-16T09:11:19.498589Z",
     "iopub.status.busy": "2021-10-16T09:11:19.497802Z",
     "iopub.status.idle": "2021-10-16T09:11:19.520298Z",
     "shell.execute_reply": "2021-10-16T09:11:19.519721Z",
     "shell.execute_reply.started": "2021-10-16T08:56:16.361570Z"
    },
    "papermill": {
     "duration": 0.057081,
     "end_time": "2021-10-16T09:11:19.520494",
     "exception": false,
     "start_time": "2021-10-16T09:11:19.463413",
     "status": "completed"
    },
    "tags": []
   },
   "outputs": [],
   "source": [
    "# loading the data to variable Data\n",
    "Data = pd.read_csv(\"/kaggle/input/heart-disease-uci/heart.csv\")\n"
   ]
  },
  {
   "cell_type": "code",
   "execution_count": 3,
   "id": "9f164797",
   "metadata": {
    "execution": {
     "iopub.execute_input": "2021-10-16T09:11:19.588206Z",
     "iopub.status.busy": "2021-10-16T09:11:19.587306Z",
     "iopub.status.idle": "2021-10-16T09:11:19.591880Z",
     "shell.execute_reply": "2021-10-16T09:11:19.591225Z",
     "shell.execute_reply.started": "2021-10-16T08:56:16.382272Z"
    },
    "papermill": {
     "duration": 0.041806,
     "end_time": "2021-10-16T09:11:19.592043",
     "exception": false,
     "start_time": "2021-10-16T09:11:19.550237",
     "status": "completed"
    },
    "tags": []
   },
   "outputs": [
    {
     "data": {
      "text/plain": [
       "(303, 14)"
      ]
     },
     "execution_count": 3,
     "metadata": {},
     "output_type": "execute_result"
    }
   ],
   "source": [
    "Data.shape"
   ]
  },
  {
   "cell_type": "markdown",
   "id": "1781d72f",
   "metadata": {
    "papermill": {
     "duration": 0.029906,
     "end_time": "2021-10-16T09:11:19.652360",
     "exception": false,
     "start_time": "2021-10-16T09:11:19.622454",
     "status": "completed"
    },
    "tags": []
   },
   "source": [
    "Through the above code it is known that the data contains the 303 observations  from different source and 14 features or columns."
   ]
  },
  {
   "cell_type": "code",
   "execution_count": 4,
   "id": "67a2419a",
   "metadata": {
    "execution": {
     "iopub.execute_input": "2021-10-16T09:11:19.719889Z",
     "iopub.status.busy": "2021-10-16T09:11:19.718937Z",
     "iopub.status.idle": "2021-10-16T09:11:19.722554Z",
     "shell.execute_reply": "2021-10-16T09:11:19.723156Z",
     "shell.execute_reply.started": "2021-10-16T08:56:16.391474Z"
    },
    "papermill": {
     "duration": 0.040395,
     "end_time": "2021-10-16T09:11:19.723348",
     "exception": false,
     "start_time": "2021-10-16T09:11:19.682953",
     "status": "completed"
    },
    "tags": []
   },
   "outputs": [
    {
     "data": {
      "text/plain": [
       "Index(['age', 'sex', 'cp', 'trestbps', 'chol', 'fbs', 'restecg', 'thalach',\n",
       "       'exang', 'oldpeak', 'slope', 'ca', 'thal', 'target'],\n",
       "      dtype='object')"
      ]
     },
     "execution_count": 4,
     "metadata": {},
     "output_type": "execute_result"
    }
   ],
   "source": [
    "Data.columns\n"
   ]
  },
  {
   "cell_type": "code",
   "execution_count": 5,
   "id": "683a7db4",
   "metadata": {
    "execution": {
     "iopub.execute_input": "2021-10-16T09:11:19.791421Z",
     "iopub.status.busy": "2021-10-16T09:11:19.790293Z",
     "iopub.status.idle": "2021-10-16T09:11:19.810090Z",
     "shell.execute_reply": "2021-10-16T09:11:19.810668Z",
     "shell.execute_reply.started": "2021-10-16T08:56:16.405587Z"
    },
    "papermill": {
     "duration": 0.054831,
     "end_time": "2021-10-16T09:11:19.810842",
     "exception": false,
     "start_time": "2021-10-16T09:11:19.756011",
     "status": "completed"
    },
    "tags": []
   },
   "outputs": [
    {
     "data": {
      "text/html": [
       "<div>\n",
       "<style scoped>\n",
       "    .dataframe tbody tr th:only-of-type {\n",
       "        vertical-align: middle;\n",
       "    }\n",
       "\n",
       "    .dataframe tbody tr th {\n",
       "        vertical-align: top;\n",
       "    }\n",
       "\n",
       "    .dataframe thead th {\n",
       "        text-align: right;\n",
       "    }\n",
       "</style>\n",
       "<table border=\"1\" class=\"dataframe\">\n",
       "  <thead>\n",
       "    <tr style=\"text-align: right;\">\n",
       "      <th></th>\n",
       "      <th>age</th>\n",
       "      <th>sex</th>\n",
       "      <th>cp</th>\n",
       "      <th>trestbps</th>\n",
       "      <th>chol</th>\n",
       "      <th>fbs</th>\n",
       "      <th>restecg</th>\n",
       "      <th>thalach</th>\n",
       "      <th>exang</th>\n",
       "      <th>oldpeak</th>\n",
       "      <th>slope</th>\n",
       "      <th>ca</th>\n",
       "      <th>thal</th>\n",
       "      <th>target</th>\n",
       "    </tr>\n",
       "  </thead>\n",
       "  <tbody>\n",
       "    <tr>\n",
       "      <th>0</th>\n",
       "      <td>63</td>\n",
       "      <td>1</td>\n",
       "      <td>3</td>\n",
       "      <td>145</td>\n",
       "      <td>233</td>\n",
       "      <td>1</td>\n",
       "      <td>0</td>\n",
       "      <td>150</td>\n",
       "      <td>0</td>\n",
       "      <td>2.3</td>\n",
       "      <td>0</td>\n",
       "      <td>0</td>\n",
       "      <td>1</td>\n",
       "      <td>1</td>\n",
       "    </tr>\n",
       "    <tr>\n",
       "      <th>1</th>\n",
       "      <td>37</td>\n",
       "      <td>1</td>\n",
       "      <td>2</td>\n",
       "      <td>130</td>\n",
       "      <td>250</td>\n",
       "      <td>0</td>\n",
       "      <td>1</td>\n",
       "      <td>187</td>\n",
       "      <td>0</td>\n",
       "      <td>3.5</td>\n",
       "      <td>0</td>\n",
       "      <td>0</td>\n",
       "      <td>2</td>\n",
       "      <td>1</td>\n",
       "    </tr>\n",
       "    <tr>\n",
       "      <th>2</th>\n",
       "      <td>41</td>\n",
       "      <td>0</td>\n",
       "      <td>1</td>\n",
       "      <td>130</td>\n",
       "      <td>204</td>\n",
       "      <td>0</td>\n",
       "      <td>0</td>\n",
       "      <td>172</td>\n",
       "      <td>0</td>\n",
       "      <td>1.4</td>\n",
       "      <td>2</td>\n",
       "      <td>0</td>\n",
       "      <td>2</td>\n",
       "      <td>1</td>\n",
       "    </tr>\n",
       "    <tr>\n",
       "      <th>3</th>\n",
       "      <td>56</td>\n",
       "      <td>1</td>\n",
       "      <td>1</td>\n",
       "      <td>120</td>\n",
       "      <td>236</td>\n",
       "      <td>0</td>\n",
       "      <td>1</td>\n",
       "      <td>178</td>\n",
       "      <td>0</td>\n",
       "      <td>0.8</td>\n",
       "      <td>2</td>\n",
       "      <td>0</td>\n",
       "      <td>2</td>\n",
       "      <td>1</td>\n",
       "    </tr>\n",
       "    <tr>\n",
       "      <th>4</th>\n",
       "      <td>57</td>\n",
       "      <td>0</td>\n",
       "      <td>0</td>\n",
       "      <td>120</td>\n",
       "      <td>354</td>\n",
       "      <td>0</td>\n",
       "      <td>1</td>\n",
       "      <td>163</td>\n",
       "      <td>1</td>\n",
       "      <td>0.6</td>\n",
       "      <td>2</td>\n",
       "      <td>0</td>\n",
       "      <td>2</td>\n",
       "      <td>1</td>\n",
       "    </tr>\n",
       "  </tbody>\n",
       "</table>\n",
       "</div>"
      ],
      "text/plain": [
       "   age  sex  cp  trestbps  chol  fbs  restecg  thalach  exang  oldpeak  slope  \\\n",
       "0   63    1   3       145   233    1        0      150      0      2.3      0   \n",
       "1   37    1   2       130   250    0        1      187      0      3.5      0   \n",
       "2   41    0   1       130   204    0        0      172      0      1.4      2   \n",
       "3   56    1   1       120   236    0        1      178      0      0.8      2   \n",
       "4   57    0   0       120   354    0        1      163      1      0.6      2   \n",
       "\n",
       "   ca  thal  target  \n",
       "0   0     1       1  \n",
       "1   0     2       1  \n",
       "2   0     2       1  \n",
       "3   0     2       1  \n",
       "4   0     2       1  "
      ]
     },
     "execution_count": 5,
     "metadata": {},
     "output_type": "execute_result"
    }
   ],
   "source": [
    "Data.head()\n"
   ]
  },
  {
   "cell_type": "code",
   "execution_count": 6,
   "id": "31d2871f",
   "metadata": {
    "execution": {
     "iopub.execute_input": "2021-10-16T09:11:19.876919Z",
     "iopub.status.busy": "2021-10-16T09:11:19.875849Z",
     "iopub.status.idle": "2021-10-16T09:11:19.890841Z",
     "shell.execute_reply": "2021-10-16T09:11:19.891428Z",
     "shell.execute_reply.started": "2021-10-16T08:56:16.431364Z"
    },
    "papermill": {
     "duration": 0.04971,
     "end_time": "2021-10-16T09:11:19.891595",
     "exception": false,
     "start_time": "2021-10-16T09:11:19.841885",
     "status": "completed"
    },
    "tags": []
   },
   "outputs": [
    {
     "data": {
      "text/html": [
       "<div>\n",
       "<style scoped>\n",
       "    .dataframe tbody tr th:only-of-type {\n",
       "        vertical-align: middle;\n",
       "    }\n",
       "\n",
       "    .dataframe tbody tr th {\n",
       "        vertical-align: top;\n",
       "    }\n",
       "\n",
       "    .dataframe thead th {\n",
       "        text-align: right;\n",
       "    }\n",
       "</style>\n",
       "<table border=\"1\" class=\"dataframe\">\n",
       "  <thead>\n",
       "    <tr style=\"text-align: right;\">\n",
       "      <th></th>\n",
       "      <th>age</th>\n",
       "      <th>sex</th>\n",
       "      <th>cp</th>\n",
       "      <th>trestbps</th>\n",
       "      <th>chol</th>\n",
       "      <th>fbs</th>\n",
       "      <th>restecg</th>\n",
       "      <th>thalach</th>\n",
       "      <th>exang</th>\n",
       "      <th>oldpeak</th>\n",
       "      <th>slope</th>\n",
       "      <th>ca</th>\n",
       "      <th>thal</th>\n",
       "      <th>target</th>\n",
       "    </tr>\n",
       "  </thead>\n",
       "  <tbody>\n",
       "    <tr>\n",
       "      <th>298</th>\n",
       "      <td>57</td>\n",
       "      <td>0</td>\n",
       "      <td>0</td>\n",
       "      <td>140</td>\n",
       "      <td>241</td>\n",
       "      <td>0</td>\n",
       "      <td>1</td>\n",
       "      <td>123</td>\n",
       "      <td>1</td>\n",
       "      <td>0.2</td>\n",
       "      <td>1</td>\n",
       "      <td>0</td>\n",
       "      <td>3</td>\n",
       "      <td>0</td>\n",
       "    </tr>\n",
       "    <tr>\n",
       "      <th>299</th>\n",
       "      <td>45</td>\n",
       "      <td>1</td>\n",
       "      <td>3</td>\n",
       "      <td>110</td>\n",
       "      <td>264</td>\n",
       "      <td>0</td>\n",
       "      <td>1</td>\n",
       "      <td>132</td>\n",
       "      <td>0</td>\n",
       "      <td>1.2</td>\n",
       "      <td>1</td>\n",
       "      <td>0</td>\n",
       "      <td>3</td>\n",
       "      <td>0</td>\n",
       "    </tr>\n",
       "    <tr>\n",
       "      <th>300</th>\n",
       "      <td>68</td>\n",
       "      <td>1</td>\n",
       "      <td>0</td>\n",
       "      <td>144</td>\n",
       "      <td>193</td>\n",
       "      <td>1</td>\n",
       "      <td>1</td>\n",
       "      <td>141</td>\n",
       "      <td>0</td>\n",
       "      <td>3.4</td>\n",
       "      <td>1</td>\n",
       "      <td>2</td>\n",
       "      <td>3</td>\n",
       "      <td>0</td>\n",
       "    </tr>\n",
       "    <tr>\n",
       "      <th>301</th>\n",
       "      <td>57</td>\n",
       "      <td>1</td>\n",
       "      <td>0</td>\n",
       "      <td>130</td>\n",
       "      <td>131</td>\n",
       "      <td>0</td>\n",
       "      <td>1</td>\n",
       "      <td>115</td>\n",
       "      <td>1</td>\n",
       "      <td>1.2</td>\n",
       "      <td>1</td>\n",
       "      <td>1</td>\n",
       "      <td>3</td>\n",
       "      <td>0</td>\n",
       "    </tr>\n",
       "    <tr>\n",
       "      <th>302</th>\n",
       "      <td>57</td>\n",
       "      <td>0</td>\n",
       "      <td>1</td>\n",
       "      <td>130</td>\n",
       "      <td>236</td>\n",
       "      <td>0</td>\n",
       "      <td>0</td>\n",
       "      <td>174</td>\n",
       "      <td>0</td>\n",
       "      <td>0.0</td>\n",
       "      <td>1</td>\n",
       "      <td>1</td>\n",
       "      <td>2</td>\n",
       "      <td>0</td>\n",
       "    </tr>\n",
       "  </tbody>\n",
       "</table>\n",
       "</div>"
      ],
      "text/plain": [
       "     age  sex  cp  trestbps  chol  fbs  restecg  thalach  exang  oldpeak  \\\n",
       "298   57    0   0       140   241    0        1      123      1      0.2   \n",
       "299   45    1   3       110   264    0        1      132      0      1.2   \n",
       "300   68    1   0       144   193    1        1      141      0      3.4   \n",
       "301   57    1   0       130   131    0        1      115      1      1.2   \n",
       "302   57    0   1       130   236    0        0      174      0      0.0   \n",
       "\n",
       "     slope  ca  thal  target  \n",
       "298      1   0     3       0  \n",
       "299      1   0     3       0  \n",
       "300      1   2     3       0  \n",
       "301      1   1     3       0  \n",
       "302      1   1     2       0  "
      ]
     },
     "execution_count": 6,
     "metadata": {},
     "output_type": "execute_result"
    }
   ],
   "source": [
    "\n",
    "Data.tail()\n"
   ]
  },
  {
   "cell_type": "code",
   "execution_count": 7,
   "id": "12f9906c",
   "metadata": {
    "execution": {
     "iopub.execute_input": "2021-10-16T09:11:19.958817Z",
     "iopub.status.busy": "2021-10-16T09:11:19.957641Z",
     "iopub.status.idle": "2021-10-16T09:11:19.965926Z",
     "shell.execute_reply": "2021-10-16T09:11:19.966514Z",
     "shell.execute_reply.started": "2021-10-16T08:56:16.447164Z"
    },
    "papermill": {
     "duration": 0.043527,
     "end_time": "2021-10-16T09:11:19.966689",
     "exception": false,
     "start_time": "2021-10-16T09:11:19.923162",
     "status": "completed"
    },
    "tags": []
   },
   "outputs": [
    {
     "data": {
      "text/plain": [
       "age         0\n",
       "sex         0\n",
       "cp          0\n",
       "trestbps    0\n",
       "chol        0\n",
       "fbs         0\n",
       "restecg     0\n",
       "thalach     0\n",
       "exang       0\n",
       "oldpeak     0\n",
       "slope       0\n",
       "ca          0\n",
       "thal        0\n",
       "target      0\n",
       "dtype: int64"
      ]
     },
     "execution_count": 7,
     "metadata": {},
     "output_type": "execute_result"
    }
   ],
   "source": [
    "Data.isnull().sum()\n"
   ]
  },
  {
   "cell_type": "code",
   "execution_count": 8,
   "id": "530c12b6",
   "metadata": {
    "execution": {
     "iopub.execute_input": "2021-10-16T09:11:20.038308Z",
     "iopub.status.busy": "2021-10-16T09:11:20.037653Z",
     "iopub.status.idle": "2021-10-16T09:11:23.273069Z",
     "shell.execute_reply": "2021-10-16T09:11:23.272528Z",
     "shell.execute_reply.started": "2021-10-16T08:56:16.463569Z"
    },
    "papermill": {
     "duration": 3.273885,
     "end_time": "2021-10-16T09:11:23.273217",
     "exception": false,
     "start_time": "2021-10-16T09:11:19.999332",
     "status": "completed"
    },
    "tags": []
   },
   "outputs": [
    {
     "data": {
      "image/png": "[encoded data removed]",
      "text/plain": [
       "<Figure size 1440x1440 with 16 Axes>"
      ]
     },
     "metadata": {
      "needs_background": "light"
     },
     "output_type": "display_data"
    }
   ],
   "source": [
    "Data.hist(edgecolor='black',bins = 25, figsize= (20,20))\n",
    "plt.show()"
   ]
  },
  {
   "cell_type": "markdown",
   "id": "7aeb3df8",
   "metadata": {
    "papermill": {
     "duration": 0.033016,
     "end_time": "2021-10-16T09:11:23.339976",
     "exception": false,
     "start_time": "2021-10-16T09:11:23.306960",
     "status": "completed"
    },
    "tags": []
   },
   "source": [
    "From these visual Data Analysis we came to know the data which is interrelated itself to the values which need to be predicted and among themselves. And about some columns which effect the Potability of the water a lot\n",
    "\n"
   ]
  },
  {
   "cell_type": "markdown",
   "id": "a6e781af",
   "metadata": {
    "papermill": {
     "duration": 0.033943,
     "end_time": "2021-10-16T09:11:23.407485",
     "exception": false,
     "start_time": "2021-10-16T09:11:23.373542",
     "status": "completed"
    },
    "tags": []
   },
   "source": [
    "# Data Cleaning / Preprocessing\n",
    "In this Data Cleaning / Preprocessing is used to\n",
    "\n",
    "* Handling Missing values\n",
    "* Scaling and Normalization\n",
    "* Parsing Dates\n",
    "* Character Encoding\n",
    "* Inconsistent Data Entry"
   ]
  },
  {
   "cell_type": "markdown",
   "id": "47a3601d",
   "metadata": {
    "papermill": {
     "duration": 0.034109,
     "end_time": "2021-10-16T09:11:23.477937",
     "exception": false,
     "start_time": "2021-10-16T09:11:23.443828",
     "status": "completed"
    },
    "tags": []
   },
   "source": [
    "Above mentioned processes should be done with respect to the data in the given in form of csv file."
   ]
  },
  {
   "cell_type": "markdown",
   "id": "cb68a5c6",
   "metadata": {
    "papermill": {
     "duration": 0.033464,
     "end_time": "2021-10-16T09:11:23.545022",
     "exception": false,
     "start_time": "2021-10-16T09:11:23.511558",
     "status": "completed"
    },
    "tags": []
   },
   "source": [
    "Before going to the cleaning process just look into the Sample Data\n",
    "\n"
   ]
  },
  {
   "cell_type": "code",
   "execution_count": 9,
   "id": "80b17260",
   "metadata": {
    "execution": {
     "iopub.execute_input": "2021-10-16T09:11:23.628329Z",
     "iopub.status.busy": "2021-10-16T09:11:23.627652Z",
     "iopub.status.idle": "2021-10-16T09:11:23.630495Z",
     "shell.execute_reply": "2021-10-16T09:11:23.631041Z",
     "shell.execute_reply.started": "2021-10-16T08:56:19.262345Z"
    },
    "papermill": {
     "duration": 0.051823,
     "end_time": "2021-10-16T09:11:23.631212",
     "exception": false,
     "start_time": "2021-10-16T09:11:23.579389",
     "status": "completed"
    },
    "tags": []
   },
   "outputs": [
    {
     "data": {
      "text/html": [
       "<div>\n",
       "<style scoped>\n",
       "    .dataframe tbody tr th:only-of-type {\n",
       "        vertical-align: middle;\n",
       "    }\n",
       "\n",
       "    .dataframe tbody tr th {\n",
       "        vertical-align: top;\n",
       "    }\n",
       "\n",
       "    .dataframe thead th {\n",
       "        text-align: right;\n",
       "    }\n",
       "</style>\n",
       "<table border=\"1\" class=\"dataframe\">\n",
       "  <thead>\n",
       "    <tr style=\"text-align: right;\">\n",
       "      <th></th>\n",
       "      <th>age</th>\n",
       "      <th>sex</th>\n",
       "      <th>cp</th>\n",
       "      <th>trestbps</th>\n",
       "      <th>chol</th>\n",
       "      <th>fbs</th>\n",
       "      <th>restecg</th>\n",
       "      <th>thalach</th>\n",
       "      <th>exang</th>\n",
       "      <th>oldpeak</th>\n",
       "      <th>slope</th>\n",
       "      <th>ca</th>\n",
       "      <th>thal</th>\n",
       "      <th>target</th>\n",
       "    </tr>\n",
       "  </thead>\n",
       "  <tbody>\n",
       "    <tr>\n",
       "      <th>0</th>\n",
       "      <td>63</td>\n",
       "      <td>1</td>\n",
       "      <td>3</td>\n",
       "      <td>145</td>\n",
       "      <td>233</td>\n",
       "      <td>1</td>\n",
       "      <td>0</td>\n",
       "      <td>150</td>\n",
       "      <td>0</td>\n",
       "      <td>2.3</td>\n",
       "      <td>0</td>\n",
       "      <td>0</td>\n",
       "      <td>1</td>\n",
       "      <td>1</td>\n",
       "    </tr>\n",
       "    <tr>\n",
       "      <th>1</th>\n",
       "      <td>37</td>\n",
       "      <td>1</td>\n",
       "      <td>2</td>\n",
       "      <td>130</td>\n",
       "      <td>250</td>\n",
       "      <td>0</td>\n",
       "      <td>1</td>\n",
       "      <td>187</td>\n",
       "      <td>0</td>\n",
       "      <td>3.5</td>\n",
       "      <td>0</td>\n",
       "      <td>0</td>\n",
       "      <td>2</td>\n",
       "      <td>1</td>\n",
       "    </tr>\n",
       "    <tr>\n",
       "      <th>2</th>\n",
       "      <td>41</td>\n",
       "      <td>0</td>\n",
       "      <td>1</td>\n",
       "      <td>130</td>\n",
       "      <td>204</td>\n",
       "      <td>0</td>\n",
       "      <td>0</td>\n",
       "      <td>172</td>\n",
       "      <td>0</td>\n",
       "      <td>1.4</td>\n",
       "      <td>2</td>\n",
       "      <td>0</td>\n",
       "      <td>2</td>\n",
       "      <td>1</td>\n",
       "    </tr>\n",
       "    <tr>\n",
       "      <th>3</th>\n",
       "      <td>56</td>\n",
       "      <td>1</td>\n",
       "      <td>1</td>\n",
       "      <td>120</td>\n",
       "      <td>236</td>\n",
       "      <td>0</td>\n",
       "      <td>1</td>\n",
       "      <td>178</td>\n",
       "      <td>0</td>\n",
       "      <td>0.8</td>\n",
       "      <td>2</td>\n",
       "      <td>0</td>\n",
       "      <td>2</td>\n",
       "      <td>1</td>\n",
       "    </tr>\n",
       "    <tr>\n",
       "      <th>4</th>\n",
       "      <td>57</td>\n",
       "      <td>0</td>\n",
       "      <td>0</td>\n",
       "      <td>120</td>\n",
       "      <td>354</td>\n",
       "      <td>0</td>\n",
       "      <td>1</td>\n",
       "      <td>163</td>\n",
       "      <td>1</td>\n",
       "      <td>0.6</td>\n",
       "      <td>2</td>\n",
       "      <td>0</td>\n",
       "      <td>2</td>\n",
       "      <td>1</td>\n",
       "    </tr>\n",
       "  </tbody>\n",
       "</table>\n",
       "</div>"
      ],
      "text/plain": [
       "   age  sex  cp  trestbps  chol  fbs  restecg  thalach  exang  oldpeak  slope  \\\n",
       "0   63    1   3       145   233    1        0      150      0      2.3      0   \n",
       "1   37    1   2       130   250    0        1      187      0      3.5      0   \n",
       "2   41    0   1       130   204    0        0      172      0      1.4      2   \n",
       "3   56    1   1       120   236    0        1      178      0      0.8      2   \n",
       "4   57    0   0       120   354    0        1      163      1      0.6      2   \n",
       "\n",
       "   ca  thal  target  \n",
       "0   0     1       1  \n",
       "1   0     2       1  \n",
       "2   0     2       1  \n",
       "3   0     2       1  \n",
       "4   0     2       1  "
      ]
     },
     "execution_count": 9,
     "metadata": {},
     "output_type": "execute_result"
    }
   ],
   "source": [
    "Data.head()\n"
   ]
  },
  {
   "cell_type": "code",
   "execution_count": 10,
   "id": "d82e26d7",
   "metadata": {
    "execution": {
     "iopub.execute_input": "2021-10-16T09:11:23.707048Z",
     "iopub.status.busy": "2021-10-16T09:11:23.706297Z",
     "iopub.status.idle": "2021-10-16T09:11:23.709020Z",
     "shell.execute_reply": "2021-10-16T09:11:23.709622Z",
     "shell.execute_reply.started": "2021-10-16T08:56:19.278916Z"
    },
    "papermill": {
     "duration": 0.044917,
     "end_time": "2021-10-16T09:11:23.709784",
     "exception": false,
     "start_time": "2021-10-16T09:11:23.664867",
     "status": "completed"
    },
    "tags": []
   },
   "outputs": [
    {
     "data": {
      "text/plain": [
       "age         0\n",
       "sex         0\n",
       "cp          0\n",
       "trestbps    0\n",
       "chol        0\n",
       "fbs         0\n",
       "restecg     0\n",
       "thalach     0\n",
       "exang       0\n",
       "oldpeak     0\n",
       "slope       0\n",
       "ca          0\n",
       "thal        0\n",
       "target      0\n",
       "dtype: int64"
      ]
     },
     "execution_count": 10,
     "metadata": {},
     "output_type": "execute_result"
    }
   ],
   "source": [
    "Data.isnull().sum()\n"
   ]
  },
  {
   "cell_type": "code",
   "execution_count": 11,
   "id": "d14fdfd7",
   "metadata": {
    "execution": {
     "iopub.execute_input": "2021-10-16T09:11:23.782091Z",
     "iopub.status.busy": "2021-10-16T09:11:23.781449Z",
     "iopub.status.idle": "2021-10-16T09:11:23.787161Z",
     "shell.execute_reply": "2021-10-16T09:11:23.787767Z",
     "shell.execute_reply.started": "2021-10-16T08:56:19.295073Z"
    },
    "papermill": {
     "duration": 0.043938,
     "end_time": "2021-10-16T09:11:23.787937",
     "exception": false,
     "start_time": "2021-10-16T09:11:23.743999",
     "status": "completed"
    },
    "tags": []
   },
   "outputs": [],
   "source": [
    "Data.dropna(inplace=True,axis=0)\n"
   ]
  },
  {
   "cell_type": "markdown",
   "id": "4310caf3",
   "metadata": {
    "papermill": {
     "duration": 0.03423,
     "end_time": "2021-10-16T09:11:23.856340",
     "exception": false,
     "start_time": "2021-10-16T09:11:23.822110",
     "status": "completed"
    },
    "tags": []
   },
   "source": [
    "\n",
    "Hence it is used to delete the rows which has atleast one null value in it."
   ]
  },
  {
   "cell_type": "code",
   "execution_count": 12,
   "id": "be463f38",
   "metadata": {
    "execution": {
     "iopub.execute_input": "2021-10-16T09:11:23.928743Z",
     "iopub.status.busy": "2021-10-16T09:11:23.928088Z",
     "iopub.status.idle": "2021-10-16T09:11:23.985277Z",
     "shell.execute_reply": "2021-10-16T09:11:23.985878Z",
     "shell.execute_reply.started": "2021-10-16T08:56:19.307845Z"
    },
    "papermill": {
     "duration": 0.094904,
     "end_time": "2021-10-16T09:11:23.986051",
     "exception": false,
     "start_time": "2021-10-16T09:11:23.891147",
     "status": "completed"
    },
    "tags": []
   },
   "outputs": [
    {
     "data": {
      "text/html": [
       "<div>\n",
       "<style scoped>\n",
       "    .dataframe tbody tr th:only-of-type {\n",
       "        vertical-align: middle;\n",
       "    }\n",
       "\n",
       "    .dataframe tbody tr th {\n",
       "        vertical-align: top;\n",
       "    }\n",
       "\n",
       "    .dataframe thead th {\n",
       "        text-align: right;\n",
       "    }\n",
       "</style>\n",
       "<table border=\"1\" class=\"dataframe\">\n",
       "  <thead>\n",
       "    <tr style=\"text-align: right;\">\n",
       "      <th></th>\n",
       "      <th>age</th>\n",
       "      <th>sex</th>\n",
       "      <th>cp</th>\n",
       "      <th>trestbps</th>\n",
       "      <th>chol</th>\n",
       "      <th>fbs</th>\n",
       "      <th>restecg</th>\n",
       "      <th>thalach</th>\n",
       "      <th>exang</th>\n",
       "      <th>oldpeak</th>\n",
       "      <th>slope</th>\n",
       "      <th>ca</th>\n",
       "      <th>thal</th>\n",
       "      <th>target</th>\n",
       "    </tr>\n",
       "  </thead>\n",
       "  <tbody>\n",
       "    <tr>\n",
       "      <th>count</th>\n",
       "      <td>303.000000</td>\n",
       "      <td>303.000000</td>\n",
       "      <td>303.000000</td>\n",
       "      <td>303.000000</td>\n",
       "      <td>303.000000</td>\n",
       "      <td>303.000000</td>\n",
       "      <td>303.000000</td>\n",
       "      <td>303.000000</td>\n",
       "      <td>303.000000</td>\n",
       "      <td>303.000000</td>\n",
       "      <td>303.000000</td>\n",
       "      <td>303.000000</td>\n",
       "      <td>303.000000</td>\n",
       "      <td>303.000000</td>\n",
       "    </tr>\n",
       "    <tr>\n",
       "      <th>mean</th>\n",
       "      <td>54.366337</td>\n",
       "      <td>0.683168</td>\n",
       "      <td>0.966997</td>\n",
       "      <td>131.623762</td>\n",
       "      <td>246.264026</td>\n",
       "      <td>0.148515</td>\n",
       "      <td>0.528053</td>\n",
       "      <td>149.646865</td>\n",
       "      <td>0.326733</td>\n",
       "      <td>1.039604</td>\n",
       "      <td>1.399340</td>\n",
       "      <td>0.729373</td>\n",
       "      <td>2.313531</td>\n",
       "      <td>0.544554</td>\n",
       "    </tr>\n",
       "    <tr>\n",
       "      <th>std</th>\n",
       "      <td>9.082101</td>\n",
       "      <td>0.466011</td>\n",
       "      <td>1.032052</td>\n",
       "      <td>17.538143</td>\n",
       "      <td>51.830751</td>\n",
       "      <td>0.356198</td>\n",
       "      <td>0.525860</td>\n",
       "      <td>22.905161</td>\n",
       "      <td>0.469794</td>\n",
       "      <td>1.161075</td>\n",
       "      <td>0.616226</td>\n",
       "      <td>1.022606</td>\n",
       "      <td>0.612277</td>\n",
       "      <td>0.498835</td>\n",
       "    </tr>\n",
       "    <tr>\n",
       "      <th>min</th>\n",
       "      <td>29.000000</td>\n",
       "      <td>0.000000</td>\n",
       "      <td>0.000000</td>\n",
       "      <td>94.000000</td>\n",
       "      <td>126.000000</td>\n",
       "      <td>0.000000</td>\n",
       "      <td>0.000000</td>\n",
       "      <td>71.000000</td>\n",
       "      <td>0.000000</td>\n",
       "      <td>0.000000</td>\n",
       "      <td>0.000000</td>\n",
       "      <td>0.000000</td>\n",
       "      <td>0.000000</td>\n",
       "      <td>0.000000</td>\n",
       "    </tr>\n",
       "    <tr>\n",
       "      <th>25%</th>\n",
       "      <td>47.500000</td>\n",
       "      <td>0.000000</td>\n",
       "      <td>0.000000</td>\n",
       "      <td>120.000000</td>\n",
       "      <td>211.000000</td>\n",
       "      <td>0.000000</td>\n",
       "      <td>0.000000</td>\n",
       "      <td>133.500000</td>\n",
       "      <td>0.000000</td>\n",
       "      <td>0.000000</td>\n",
       "      <td>1.000000</td>\n",
       "      <td>0.000000</td>\n",
       "      <td>2.000000</td>\n",
       "      <td>0.000000</td>\n",
       "    </tr>\n",
       "    <tr>\n",
       "      <th>50%</th>\n",
       "      <td>55.000000</td>\n",
       "      <td>1.000000</td>\n",
       "      <td>1.000000</td>\n",
       "      <td>130.000000</td>\n",
       "      <td>240.000000</td>\n",
       "      <td>0.000000</td>\n",
       "      <td>1.000000</td>\n",
       "      <td>153.000000</td>\n",
       "      <td>0.000000</td>\n",
       "      <td>0.800000</td>\n",
       "      <td>1.000000</td>\n",
       "      <td>0.000000</td>\n",
       "      <td>2.000000</td>\n",
       "      <td>1.000000</td>\n",
       "    </tr>\n",
       "    <tr>\n",
       "      <th>75%</th>\n",
       "      <td>61.000000</td>\n",
       "      <td>1.000000</td>\n",
       "      <td>2.000000</td>\n",
       "      <td>140.000000</td>\n",
       "      <td>274.500000</td>\n",
       "      <td>0.000000</td>\n",
       "      <td>1.000000</td>\n",
       "      <td>166.000000</td>\n",
       "      <td>1.000000</td>\n",
       "      <td>1.600000</td>\n",
       "      <td>2.000000</td>\n",
       "      <td>1.000000</td>\n",
       "      <td>3.000000</td>\n",
       "      <td>1.000000</td>\n",
       "    </tr>\n",
       "    <tr>\n",
       "      <th>max</th>\n",
       "      <td>77.000000</td>\n",
       "      <td>1.000000</td>\n",
       "      <td>3.000000</td>\n",
       "      <td>200.000000</td>\n",
       "      <td>564.000000</td>\n",
       "      <td>1.000000</td>\n",
       "      <td>2.000000</td>\n",
       "      <td>202.000000</td>\n",
       "      <td>1.000000</td>\n",
       "      <td>6.200000</td>\n",
       "      <td>2.000000</td>\n",
       "      <td>4.000000</td>\n",
       "      <td>3.000000</td>\n",
       "      <td>1.000000</td>\n",
       "    </tr>\n",
       "  </tbody>\n",
       "</table>\n",
       "</div>"
      ],
      "text/plain": [
       "              age         sex          cp    trestbps        chol         fbs  \\\n",
       "count  303.000000  303.000000  303.000000  303.000000  303.000000  303.000000   \n",
       "mean    54.366337    0.683168    0.966997  131.623762  246.264026    0.148515   \n",
       "std      9.082101    0.466011    1.032052   17.538143   51.830751    0.356198   \n",
       "min     29.000000    0.000000    0.000000   94.000000  126.000000    0.000000   \n",
       "25%     47.500000    0.000000    0.000000  120.000000  211.000000    0.000000   \n",
       "50%     55.000000    1.000000    1.000000  130.000000  240.000000    0.000000   \n",
       "75%     61.000000    1.000000    2.000000  140.000000  274.500000    0.000000   \n",
       "max     77.000000    1.000000    3.000000  200.000000  564.000000    1.000000   \n",
       "\n",
       "          restecg     thalach       exang     oldpeak       slope          ca  \\\n",
       "count  303.000000  303.000000  303.000000  303.000000  303.000000  303.000000   \n",
       "mean     0.528053  149.646865    0.326733    1.039604    1.399340    0.729373   \n",
       "std      0.525860   22.905161    0.469794    1.161075    0.616226    1.022606   \n",
       "min      0.000000   71.000000    0.000000    0.000000    0.000000    0.000000   \n",
       "25%      0.000000  133.500000    0.000000    0.000000    1.000000    0.000000   \n",
       "50%      1.000000  153.000000    0.000000    0.800000    1.000000    0.000000   \n",
       "75%      1.000000  166.000000    1.000000    1.600000    2.000000    1.000000   \n",
       "max      2.000000  202.000000    1.000000    6.200000    2.000000    4.000000   \n",
       "\n",
       "             thal      target  \n",
       "count  303.000000  303.000000  \n",
       "mean     2.313531    0.544554  \n",
       "std      0.612277    0.498835  \n",
       "min      0.000000    0.000000  \n",
       "25%      2.000000    0.000000  \n",
       "50%      2.000000    1.000000  \n",
       "75%      3.000000    1.000000  \n",
       "max      3.000000    1.000000  "
      ]
     },
     "execution_count": 12,
     "metadata": {},
     "output_type": "execute_result"
    }
   ],
   "source": [
    "Data.describe()\n"
   ]
  },
  {
   "cell_type": "markdown",
   "id": "870b5d39",
   "metadata": {
    "papermill": {
     "duration": 0.034771,
     "end_time": "2021-10-16T09:11:24.056874",
     "exception": false,
     "start_time": "2021-10-16T09:11:24.022103",
     "status": "completed"
    },
    "tags": []
   },
   "source": [
    "Hence we can also manage the null values in many other ways like filling those values with constant or central tendency values like mean or median or mode based on its accuracy with the final predicted values.\n",
    "\n",
    "But here I proceed with the basic concept that is to delete the data with the atleast one null value in it."
   ]
  },
  {
   "cell_type": "markdown",
   "id": "74f8e422",
   "metadata": {
    "papermill": {
     "duration": 0.034229,
     "end_time": "2021-10-16T09:11:24.126439",
     "exception": false,
     "start_time": "2021-10-16T09:11:24.092210",
     "status": "completed"
    },
    "tags": []
   },
   "source": [
    "# Building ML model\n",
    "* Before Building model, we have to separate the data of columns with features and with values to be predicted as y and X\n",
    "* And then separate the 20% data in whole data along with the target column which is used to evaluate the performance of the data\n"
   ]
  },
  {
   "cell_type": "code",
   "execution_count": 13,
   "id": "afeafa62",
   "metadata": {
    "execution": {
     "iopub.execute_input": "2021-10-16T09:11:24.210716Z",
     "iopub.status.busy": "2021-10-16T09:11:24.209970Z",
     "iopub.status.idle": "2021-10-16T09:11:24.213875Z",
     "shell.execute_reply": "2021-10-16T09:11:24.214629Z",
     "shell.execute_reply.started": "2021-10-16T08:56:19.367882Z"
    },
    "papermill": {
     "duration": 0.05398,
     "end_time": "2021-10-16T09:11:24.214797",
     "exception": false,
     "start_time": "2021-10-16T09:11:24.160817",
     "status": "completed"
    },
    "tags": []
   },
   "outputs": [
    {
     "data": {
      "text/html": [
       "<div>\n",
       "<style scoped>\n",
       "    .dataframe tbody tr th:only-of-type {\n",
       "        vertical-align: middle;\n",
       "    }\n",
       "\n",
       "    .dataframe tbody tr th {\n",
       "        vertical-align: top;\n",
       "    }\n",
       "\n",
       "    .dataframe thead th {\n",
       "        text-align: right;\n",
       "    }\n",
       "</style>\n",
       "<table border=\"1\" class=\"dataframe\">\n",
       "  <thead>\n",
       "    <tr style=\"text-align: right;\">\n",
       "      <th></th>\n",
       "      <th>age</th>\n",
       "      <th>sex</th>\n",
       "      <th>cp</th>\n",
       "      <th>trestbps</th>\n",
       "      <th>chol</th>\n",
       "      <th>fbs</th>\n",
       "      <th>restecg</th>\n",
       "      <th>thalach</th>\n",
       "      <th>exang</th>\n",
       "      <th>oldpeak</th>\n",
       "      <th>slope</th>\n",
       "      <th>ca</th>\n",
       "      <th>thal</th>\n",
       "      <th>target</th>\n",
       "    </tr>\n",
       "  </thead>\n",
       "  <tbody>\n",
       "    <tr>\n",
       "      <th>0</th>\n",
       "      <td>63</td>\n",
       "      <td>1</td>\n",
       "      <td>3</td>\n",
       "      <td>145</td>\n",
       "      <td>233</td>\n",
       "      <td>1</td>\n",
       "      <td>0</td>\n",
       "      <td>150</td>\n",
       "      <td>0</td>\n",
       "      <td>2.3</td>\n",
       "      <td>0</td>\n",
       "      <td>0</td>\n",
       "      <td>1</td>\n",
       "      <td>1</td>\n",
       "    </tr>\n",
       "    <tr>\n",
       "      <th>1</th>\n",
       "      <td>37</td>\n",
       "      <td>1</td>\n",
       "      <td>2</td>\n",
       "      <td>130</td>\n",
       "      <td>250</td>\n",
       "      <td>0</td>\n",
       "      <td>1</td>\n",
       "      <td>187</td>\n",
       "      <td>0</td>\n",
       "      <td>3.5</td>\n",
       "      <td>0</td>\n",
       "      <td>0</td>\n",
       "      <td>2</td>\n",
       "      <td>1</td>\n",
       "    </tr>\n",
       "    <tr>\n",
       "      <th>2</th>\n",
       "      <td>41</td>\n",
       "      <td>0</td>\n",
       "      <td>1</td>\n",
       "      <td>130</td>\n",
       "      <td>204</td>\n",
       "      <td>0</td>\n",
       "      <td>0</td>\n",
       "      <td>172</td>\n",
       "      <td>0</td>\n",
       "      <td>1.4</td>\n",
       "      <td>2</td>\n",
       "      <td>0</td>\n",
       "      <td>2</td>\n",
       "      <td>1</td>\n",
       "    </tr>\n",
       "    <tr>\n",
       "      <th>3</th>\n",
       "      <td>56</td>\n",
       "      <td>1</td>\n",
       "      <td>1</td>\n",
       "      <td>120</td>\n",
       "      <td>236</td>\n",
       "      <td>0</td>\n",
       "      <td>1</td>\n",
       "      <td>178</td>\n",
       "      <td>0</td>\n",
       "      <td>0.8</td>\n",
       "      <td>2</td>\n",
       "      <td>0</td>\n",
       "      <td>2</td>\n",
       "      <td>1</td>\n",
       "    </tr>\n",
       "    <tr>\n",
       "      <th>4</th>\n",
       "      <td>57</td>\n",
       "      <td>0</td>\n",
       "      <td>0</td>\n",
       "      <td>120</td>\n",
       "      <td>354</td>\n",
       "      <td>0</td>\n",
       "      <td>1</td>\n",
       "      <td>163</td>\n",
       "      <td>1</td>\n",
       "      <td>0.6</td>\n",
       "      <td>2</td>\n",
       "      <td>0</td>\n",
       "      <td>2</td>\n",
       "      <td>1</td>\n",
       "    </tr>\n",
       "  </tbody>\n",
       "</table>\n",
       "</div>"
      ],
      "text/plain": [
       "   age  sex  cp  trestbps  chol  fbs  restecg  thalach  exang  oldpeak  slope  \\\n",
       "0   63    1   3       145   233    1        0      150      0      2.3      0   \n",
       "1   37    1   2       130   250    0        1      187      0      3.5      0   \n",
       "2   41    0   1       130   204    0        0      172      0      1.4      2   \n",
       "3   56    1   1       120   236    0        1      178      0      0.8      2   \n",
       "4   57    0   0       120   354    0        1      163      1      0.6      2   \n",
       "\n",
       "   ca  thal  target  \n",
       "0   0     1       1  \n",
       "1   0     2       1  \n",
       "2   0     2       1  \n",
       "3   0     2       1  \n",
       "4   0     2       1  "
      ]
     },
     "execution_count": 13,
     "metadata": {},
     "output_type": "execute_result"
    }
   ],
   "source": [
    "Data.head(5)"
   ]
  },
  {
   "cell_type": "code",
   "execution_count": 14,
   "id": "45ce7ef6",
   "metadata": {
    "execution": {
     "iopub.execute_input": "2021-10-16T09:11:24.308998Z",
     "iopub.status.busy": "2021-10-16T09:11:24.307167Z",
     "iopub.status.idle": "2021-10-16T09:11:24.327250Z",
     "shell.execute_reply": "2021-10-16T09:11:24.327783Z",
     "shell.execute_reply.started": "2021-10-16T08:56:19.386830Z"
    },
    "papermill": {
     "duration": 0.076099,
     "end_time": "2021-10-16T09:11:24.327967",
     "exception": false,
     "start_time": "2021-10-16T09:11:24.251868",
     "status": "completed"
    },
    "tags": []
   },
   "outputs": [
    {
     "data": {
      "text/html": [
       "<div>\n",
       "<style scoped>\n",
       "    .dataframe tbody tr th:only-of-type {\n",
       "        vertical-align: middle;\n",
       "    }\n",
       "\n",
       "    .dataframe tbody tr th {\n",
       "        vertical-align: top;\n",
       "    }\n",
       "\n",
       "    .dataframe thead th {\n",
       "        text-align: right;\n",
       "    }\n",
       "</style>\n",
       "<table border=\"1\" class=\"dataframe\">\n",
       "  <thead>\n",
       "    <tr style=\"text-align: right;\">\n",
       "      <th></th>\n",
       "      <th>age</th>\n",
       "      <th>trestbps</th>\n",
       "      <th>chol</th>\n",
       "      <th>thalach</th>\n",
       "      <th>oldpeak</th>\n",
       "      <th>target</th>\n",
       "      <th>sex_0</th>\n",
       "      <th>sex_1</th>\n",
       "      <th>cp_0</th>\n",
       "      <th>cp_1</th>\n",
       "      <th>...</th>\n",
       "      <th>slope_2</th>\n",
       "      <th>ca_0</th>\n",
       "      <th>ca_1</th>\n",
       "      <th>ca_2</th>\n",
       "      <th>ca_3</th>\n",
       "      <th>ca_4</th>\n",
       "      <th>thal_0</th>\n",
       "      <th>thal_1</th>\n",
       "      <th>thal_2</th>\n",
       "      <th>thal_3</th>\n",
       "    </tr>\n",
       "  </thead>\n",
       "  <tbody>\n",
       "    <tr>\n",
       "      <th>0</th>\n",
       "      <td>63</td>\n",
       "      <td>145</td>\n",
       "      <td>233</td>\n",
       "      <td>150</td>\n",
       "      <td>2.3</td>\n",
       "      <td>1</td>\n",
       "      <td>0</td>\n",
       "      <td>1</td>\n",
       "      <td>0</td>\n",
       "      <td>0</td>\n",
       "      <td>...</td>\n",
       "      <td>0</td>\n",
       "      <td>1</td>\n",
       "      <td>0</td>\n",
       "      <td>0</td>\n",
       "      <td>0</td>\n",
       "      <td>0</td>\n",
       "      <td>0</td>\n",
       "      <td>1</td>\n",
       "      <td>0</td>\n",
       "      <td>0</td>\n",
       "    </tr>\n",
       "    <tr>\n",
       "      <th>1</th>\n",
       "      <td>37</td>\n",
       "      <td>130</td>\n",
       "      <td>250</td>\n",
       "      <td>187</td>\n",
       "      <td>3.5</td>\n",
       "      <td>1</td>\n",
       "      <td>0</td>\n",
       "      <td>1</td>\n",
       "      <td>0</td>\n",
       "      <td>0</td>\n",
       "      <td>...</td>\n",
       "      <td>0</td>\n",
       "      <td>1</td>\n",
       "      <td>0</td>\n",
       "      <td>0</td>\n",
       "      <td>0</td>\n",
       "      <td>0</td>\n",
       "      <td>0</td>\n",
       "      <td>0</td>\n",
       "      <td>1</td>\n",
       "      <td>0</td>\n",
       "    </tr>\n",
       "    <tr>\n",
       "      <th>2</th>\n",
       "      <td>41</td>\n",
       "      <td>130</td>\n",
       "      <td>204</td>\n",
       "      <td>172</td>\n",
       "      <td>1.4</td>\n",
       "      <td>1</td>\n",
       "      <td>1</td>\n",
       "      <td>0</td>\n",
       "      <td>0</td>\n",
       "      <td>1</td>\n",
       "      <td>...</td>\n",
       "      <td>1</td>\n",
       "      <td>1</td>\n",
       "      <td>0</td>\n",
       "      <td>0</td>\n",
       "      <td>0</td>\n",
       "      <td>0</td>\n",
       "      <td>0</td>\n",
       "      <td>0</td>\n",
       "      <td>1</td>\n",
       "      <td>0</td>\n",
       "    </tr>\n",
       "    <tr>\n",
       "      <th>3</th>\n",
       "      <td>56</td>\n",
       "      <td>120</td>\n",
       "      <td>236</td>\n",
       "      <td>178</td>\n",
       "      <td>0.8</td>\n",
       "      <td>1</td>\n",
       "      <td>0</td>\n",
       "      <td>1</td>\n",
       "      <td>0</td>\n",
       "      <td>1</td>\n",
       "      <td>...</td>\n",
       "      <td>1</td>\n",
       "      <td>1</td>\n",
       "      <td>0</td>\n",
       "      <td>0</td>\n",
       "      <td>0</td>\n",
       "      <td>0</td>\n",
       "      <td>0</td>\n",
       "      <td>0</td>\n",
       "      <td>1</td>\n",
       "      <td>0</td>\n",
       "    </tr>\n",
       "    <tr>\n",
       "      <th>4</th>\n",
       "      <td>57</td>\n",
       "      <td>120</td>\n",
       "      <td>354</td>\n",
       "      <td>163</td>\n",
       "      <td>0.6</td>\n",
       "      <td>1</td>\n",
       "      <td>1</td>\n",
       "      <td>0</td>\n",
       "      <td>1</td>\n",
       "      <td>0</td>\n",
       "      <td>...</td>\n",
       "      <td>1</td>\n",
       "      <td>1</td>\n",
       "      <td>0</td>\n",
       "      <td>0</td>\n",
       "      <td>0</td>\n",
       "      <td>0</td>\n",
       "      <td>0</td>\n",
       "      <td>0</td>\n",
       "      <td>1</td>\n",
       "      <td>0</td>\n",
       "    </tr>\n",
       "  </tbody>\n",
       "</table>\n",
       "<p>5 rows × 31 columns</p>\n",
       "</div>"
      ],
      "text/plain": [
       "   age  trestbps  chol  thalach  oldpeak  target  sex_0  sex_1  cp_0  cp_1  \\\n",
       "0   63       145   233      150      2.3       1      0      1     0     0   \n",
       "1   37       130   250      187      3.5       1      0      1     0     0   \n",
       "2   41       130   204      172      1.4       1      1      0     0     1   \n",
       "3   56       120   236      178      0.8       1      0      1     0     1   \n",
       "4   57       120   354      163      0.6       1      1      0     1     0   \n",
       "\n",
       "   ...  slope_2  ca_0  ca_1  ca_2  ca_3  ca_4  thal_0  thal_1  thal_2  thal_3  \n",
       "0  ...        0     1     0     0     0     0       0       1       0       0  \n",
       "1  ...        0     1     0     0     0     0       0       0       1       0  \n",
       "2  ...        1     1     0     0     0     0       0       0       1       0  \n",
       "3  ...        1     1     0     0     0     0       0       0       1       0  \n",
       "4  ...        1     1     0     0     0     0       0       0       1       0  \n",
       "\n",
       "[5 rows x 31 columns]"
      ]
     },
     "execution_count": 14,
     "metadata": {},
     "output_type": "execute_result"
    }
   ],
   "source": [
    "X = Data.drop(['target'], axis=1)\n",
    "y = Data.target\n",
    "\n",
    "#Encode the catergorical data in the features data\n",
    "X_encoded = pd.get_dummies(Data, columns=['sex', 'cp','fbs','restecg','exang','slope','ca','thal'])\n",
    "X_encoded.head()\n"
   ]
  },
  {
   "cell_type": "code",
   "execution_count": 15,
   "id": "8a593569",
   "metadata": {
    "execution": {
     "iopub.execute_input": "2021-10-16T09:11:24.409217Z",
     "iopub.status.busy": "2021-10-16T09:11:24.408491Z",
     "iopub.status.idle": "2021-10-16T09:11:24.704200Z",
     "shell.execute_reply": "2021-10-16T09:11:24.704730Z",
     "shell.execute_reply.started": "2021-10-16T08:56:19.424050Z"
    },
    "papermill": {
     "duration": 0.339361,
     "end_time": "2021-10-16T09:11:24.704930",
     "exception": false,
     "start_time": "2021-10-16T09:11:24.365569",
     "status": "completed"
    },
    "tags": []
   },
   "outputs": [],
   "source": [
    "#splitting thr dataset\n",
    "from sklearn.model_selection import train_test_split\n",
    "X_train, X_test, y_train, y_test = train_test_split(X_encoded, y, test_size=0.2, random_state = 1)"
   ]
  },
  {
   "cell_type": "code",
   "execution_count": 16,
   "id": "f29a468b",
   "metadata": {
    "execution": {
     "iopub.execute_input": "2021-10-16T09:11:24.784118Z",
     "iopub.status.busy": "2021-10-16T09:11:24.782966Z",
     "iopub.status.idle": "2021-10-16T09:11:24.793963Z",
     "shell.execute_reply": "2021-10-16T09:11:24.794498Z",
     "shell.execute_reply.started": "2021-10-16T08:56:19.763629Z"
    },
    "papermill": {
     "duration": 0.05207,
     "end_time": "2021-10-16T09:11:24.794691",
     "exception": false,
     "start_time": "2021-10-16T09:11:24.742621",
     "status": "completed"
    },
    "tags": []
   },
   "outputs": [],
   "source": [
    "from sklearn.preprocessing import StandardScaler \n",
    "sc_X = StandardScaler()\n",
    "X_train = sc_X.fit_transform(X_train)\n",
    "X_test = sc_X.transform(X_test)"
   ]
  },
  {
   "cell_type": "markdown",
   "id": "e7d118b8",
   "metadata": {
    "papermill": {
     "duration": 0.036747,
     "end_time": "2021-10-16T09:11:24.867976",
     "exception": false,
     "start_time": "2021-10-16T09:11:24.831229",
     "status": "completed"
    },
    "tags": []
   },
   "source": [
    "# Logistic Regression Model"
   ]
  },
  {
   "cell_type": "code",
   "execution_count": 17,
   "id": "a45c6475",
   "metadata": {
    "execution": {
     "iopub.execute_input": "2021-10-16T09:11:24.947337Z",
     "iopub.status.busy": "2021-10-16T09:11:24.945702Z",
     "iopub.status.idle": "2021-10-16T09:11:25.032273Z",
     "shell.execute_reply": "2021-10-16T09:11:25.032871Z",
     "shell.execute_reply.started": "2021-10-16T08:56:19.779241Z"
    },
    "papermill": {
     "duration": 0.127514,
     "end_time": "2021-10-16T09:11:25.033091",
     "exception": false,
     "start_time": "2021-10-16T09:11:24.905577",
     "status": "completed"
    },
    "tags": []
   },
   "outputs": [
    {
     "data": {
      "text/plain": [
       "LogisticRegression(random_state=1)"
      ]
     },
     "execution_count": 17,
     "metadata": {},
     "output_type": "execute_result"
    }
   ],
   "source": [
    "from sklearn.linear_model import LogisticRegression\n",
    "log_Reg = LogisticRegression(random_state = 1)\n",
    "log_Reg.fit(X_train,y_train )\n"
   ]
  },
  {
   "cell_type": "code",
   "execution_count": 18,
   "id": "12a537c8",
   "metadata": {
    "execution": {
     "iopub.execute_input": "2021-10-16T09:11:25.114756Z",
     "iopub.status.busy": "2021-10-16T09:11:25.113633Z",
     "iopub.status.idle": "2021-10-16T09:11:25.116171Z",
     "shell.execute_reply": "2021-10-16T09:11:25.116787Z",
     "shell.execute_reply.started": "2021-10-16T08:56:19.876077Z"
    },
    "papermill": {
     "duration": 0.045396,
     "end_time": "2021-10-16T09:11:25.116962",
     "exception": false,
     "start_time": "2021-10-16T09:11:25.071566",
     "status": "completed"
    },
    "tags": []
   },
   "outputs": [],
   "source": [
    "y_pred_log_Reg = log_Reg.predict(X_test)\n"
   ]
  },
  {
   "cell_type": "code",
   "execution_count": 19,
   "id": "a8e5b27e",
   "metadata": {
    "execution": {
     "iopub.execute_input": "2021-10-16T09:11:25.196704Z",
     "iopub.status.busy": "2021-10-16T09:11:25.195993Z",
     "iopub.status.idle": "2021-10-16T09:11:25.205331Z",
     "shell.execute_reply": "2021-10-16T09:11:25.205993Z",
     "shell.execute_reply.started": "2021-10-16T08:56:19.882201Z"
    },
    "papermill": {
     "duration": 0.051089,
     "end_time": "2021-10-16T09:11:25.206159",
     "exception": false,
     "start_time": "2021-10-16T09:11:25.155070",
     "status": "completed"
    },
    "tags": []
   },
   "outputs": [
    {
     "data": {
      "text/html": [
       "<div>\n",
       "<style scoped>\n",
       "    .dataframe tbody tr th:only-of-type {\n",
       "        vertical-align: middle;\n",
       "    }\n",
       "\n",
       "    .dataframe tbody tr th {\n",
       "        vertical-align: top;\n",
       "    }\n",
       "\n",
       "    .dataframe thead th {\n",
       "        text-align: right;\n",
       "    }\n",
       "</style>\n",
       "<table border=\"1\" class=\"dataframe\">\n",
       "  <thead>\n",
       "    <tr style=\"text-align: right;\">\n",
       "      <th></th>\n",
       "      <th>Expected</th>\n",
       "      <th>Predicted</th>\n",
       "    </tr>\n",
       "  </thead>\n",
       "  <tbody>\n",
       "    <tr>\n",
       "      <th>204</th>\n",
       "      <td>0</td>\n",
       "      <td>0</td>\n",
       "    </tr>\n",
       "    <tr>\n",
       "      <th>159</th>\n",
       "      <td>1</td>\n",
       "      <td>1</td>\n",
       "    </tr>\n",
       "    <tr>\n",
       "      <th>219</th>\n",
       "      <td>0</td>\n",
       "      <td>0</td>\n",
       "    </tr>\n",
       "    <tr>\n",
       "      <th>174</th>\n",
       "      <td>0</td>\n",
       "      <td>0</td>\n",
       "    </tr>\n",
       "    <tr>\n",
       "      <th>184</th>\n",
       "      <td>0</td>\n",
       "      <td>0</td>\n",
       "    </tr>\n",
       "    <tr>\n",
       "      <th>295</th>\n",
       "      <td>0</td>\n",
       "      <td>0</td>\n",
       "    </tr>\n",
       "    <tr>\n",
       "      <th>269</th>\n",
       "      <td>0</td>\n",
       "      <td>0</td>\n",
       "    </tr>\n",
       "    <tr>\n",
       "      <th>119</th>\n",
       "      <td>1</td>\n",
       "      <td>1</td>\n",
       "    </tr>\n",
       "    <tr>\n",
       "      <th>193</th>\n",
       "      <td>0</td>\n",
       "      <td>0</td>\n",
       "    </tr>\n",
       "    <tr>\n",
       "      <th>154</th>\n",
       "      <td>1</td>\n",
       "      <td>1</td>\n",
       "    </tr>\n",
       "  </tbody>\n",
       "</table>\n",
       "</div>"
      ],
      "text/plain": [
       "     Expected  Predicted\n",
       "204         0          0\n",
       "159         1          1\n",
       "219         0          0\n",
       "174         0          0\n",
       "184         0          0\n",
       "295         0          0\n",
       "269         0          0\n",
       "119         1          1\n",
       "193         0          0\n",
       "154         1          1"
      ]
     },
     "execution_count": 19,
     "metadata": {},
     "output_type": "execute_result"
    }
   ],
   "source": [
    "\n",
    "#checking the performance of the model\n",
    "y_pred_log_Reg_df = pd.DataFrame({'Expected':y_test, 'Predicted':y_pred_log_Reg })\n",
    "y_pred_log_Reg_df.head(10)\n"
   ]
  },
  {
   "cell_type": "code",
   "execution_count": 20,
   "id": "1d3b40ed",
   "metadata": {
    "execution": {
     "iopub.execute_input": "2021-10-16T09:11:25.338269Z",
     "iopub.status.busy": "2021-10-16T09:11:25.337614Z",
     "iopub.status.idle": "2021-10-16T09:11:25.346006Z",
     "shell.execute_reply": "2021-10-16T09:11:25.345248Z",
     "shell.execute_reply.started": "2021-10-16T08:56:19.900353Z"
    },
    "papermill": {
     "duration": 0.102166,
     "end_time": "2021-10-16T09:11:25.346164",
     "exception": false,
     "start_time": "2021-10-16T09:11:25.243998",
     "status": "completed"
    },
    "tags": []
   },
   "outputs": [
    {
     "data": {
      "text/plain": [
       "array([[30,  0],\n",
       "       [ 0, 31]])"
      ]
     },
     "execution_count": 20,
     "metadata": {},
     "output_type": "execute_result"
    }
   ],
   "source": [
    "# Making the Confusion Matrix\n",
    "from sklearn.metrics import confusion_matrix, accuracy_score\n",
    "log_Reg_cm = confusion_matrix(y_test, y_pred_log_Reg)\n",
    "log_Reg_cm\n"
   ]
  },
  {
   "cell_type": "markdown",
   "id": "29583adf",
   "metadata": {
    "papermill": {
     "duration": 0.037678,
     "end_time": "2021-10-16T09:11:25.423323",
     "exception": false,
     "start_time": "2021-10-16T09:11:25.385645",
     "status": "completed"
    },
    "tags": []
   },
   "source": [
    "# 2.Decision Tree Regression\n"
   ]
  },
  {
   "cell_type": "code",
   "execution_count": 21,
   "id": "5365227e",
   "metadata": {
    "execution": {
     "iopub.execute_input": "2021-10-16T09:11:25.505286Z",
     "iopub.status.busy": "2021-10-16T09:11:25.504612Z",
     "iopub.status.idle": "2021-10-16T09:11:25.588852Z",
     "shell.execute_reply": "2021-10-16T09:11:25.588258Z",
     "shell.execute_reply.started": "2021-10-16T08:56:19.911210Z"
    },
    "papermill": {
     "duration": 0.127296,
     "end_time": "2021-10-16T09:11:25.589045",
     "exception": false,
     "start_time": "2021-10-16T09:11:25.461749",
     "status": "completed"
    },
    "tags": []
   },
   "outputs": [
    {
     "data": {
      "text/plain": [
       "DecisionTreeClassifier()"
      ]
     },
     "execution_count": 21,
     "metadata": {},
     "output_type": "execute_result"
    }
   ],
   "source": [
    "from sklearn.tree import DecisionTreeClassifier\n",
    "dtc = DecisionTreeClassifier()\n",
    "dtc.fit(X_train,y_train )"
   ]
  },
  {
   "cell_type": "code",
   "execution_count": 22,
   "id": "855f98b8",
   "metadata": {
    "execution": {
     "iopub.execute_input": "2021-10-16T09:11:25.671111Z",
     "iopub.status.busy": "2021-10-16T09:11:25.670340Z",
     "iopub.status.idle": "2021-10-16T09:11:25.675303Z",
     "shell.execute_reply": "2021-10-16T09:11:25.674724Z",
     "shell.execute_reply.started": "2021-10-16T08:56:20.003137Z"
    },
    "papermill": {
     "duration": 0.047286,
     "end_time": "2021-10-16T09:11:25.675528",
     "exception": false,
     "start_time": "2021-10-16T09:11:25.628242",
     "status": "completed"
    },
    "tags": []
   },
   "outputs": [],
   "source": [
    "y_pred_dtc = dtc.predict(X_test)"
   ]
  },
  {
   "cell_type": "code",
   "execution_count": 23,
   "id": "15294363",
   "metadata": {
    "execution": {
     "iopub.execute_input": "2021-10-16T09:11:25.756243Z",
     "iopub.status.busy": "2021-10-16T09:11:25.755604Z",
     "iopub.status.idle": "2021-10-16T09:11:25.764776Z",
     "shell.execute_reply": "2021-10-16T09:11:25.765477Z",
     "shell.execute_reply.started": "2021-10-16T08:56:20.011032Z"
    },
    "papermill": {
     "duration": 0.051543,
     "end_time": "2021-10-16T09:11:25.765638",
     "exception": false,
     "start_time": "2021-10-16T09:11:25.714095",
     "status": "completed"
    },
    "tags": []
   },
   "outputs": [
    {
     "data": {
      "text/html": [
       "<div>\n",
       "<style scoped>\n",
       "    .dataframe tbody tr th:only-of-type {\n",
       "        vertical-align: middle;\n",
       "    }\n",
       "\n",
       "    .dataframe tbody tr th {\n",
       "        vertical-align: top;\n",
       "    }\n",
       "\n",
       "    .dataframe thead th {\n",
       "        text-align: right;\n",
       "    }\n",
       "</style>\n",
       "<table border=\"1\" class=\"dataframe\">\n",
       "  <thead>\n",
       "    <tr style=\"text-align: right;\">\n",
       "      <th></th>\n",
       "      <th>Expected</th>\n",
       "      <th>Predicted</th>\n",
       "    </tr>\n",
       "  </thead>\n",
       "  <tbody>\n",
       "    <tr>\n",
       "      <th>204</th>\n",
       "      <td>0</td>\n",
       "      <td>0</td>\n",
       "    </tr>\n",
       "    <tr>\n",
       "      <th>159</th>\n",
       "      <td>1</td>\n",
       "      <td>1</td>\n",
       "    </tr>\n",
       "    <tr>\n",
       "      <th>219</th>\n",
       "      <td>0</td>\n",
       "      <td>0</td>\n",
       "    </tr>\n",
       "    <tr>\n",
       "      <th>174</th>\n",
       "      <td>0</td>\n",
       "      <td>0</td>\n",
       "    </tr>\n",
       "    <tr>\n",
       "      <th>184</th>\n",
       "      <td>0</td>\n",
       "      <td>0</td>\n",
       "    </tr>\n",
       "    <tr>\n",
       "      <th>295</th>\n",
       "      <td>0</td>\n",
       "      <td>0</td>\n",
       "    </tr>\n",
       "    <tr>\n",
       "      <th>269</th>\n",
       "      <td>0</td>\n",
       "      <td>0</td>\n",
       "    </tr>\n",
       "    <tr>\n",
       "      <th>119</th>\n",
       "      <td>1</td>\n",
       "      <td>1</td>\n",
       "    </tr>\n",
       "    <tr>\n",
       "      <th>193</th>\n",
       "      <td>0</td>\n",
       "      <td>0</td>\n",
       "    </tr>\n",
       "    <tr>\n",
       "      <th>154</th>\n",
       "      <td>1</td>\n",
       "      <td>1</td>\n",
       "    </tr>\n",
       "  </tbody>\n",
       "</table>\n",
       "</div>"
      ],
      "text/plain": [
       "     Expected  Predicted\n",
       "204         0          0\n",
       "159         1          1\n",
       "219         0          0\n",
       "174         0          0\n",
       "184         0          0\n",
       "295         0          0\n",
       "269         0          0\n",
       "119         1          1\n",
       "193         0          0\n",
       "154         1          1"
      ]
     },
     "execution_count": 23,
     "metadata": {},
     "output_type": "execute_result"
    }
   ],
   "source": [
    "y_pred_dtc_df = pd.DataFrame({'Expected':y_test, 'Predicted':y_pred_dtc})\n",
    "y_pred_dtc_df.head(10)\n"
   ]
  },
  {
   "cell_type": "code",
   "execution_count": 24,
   "id": "e16fb512",
   "metadata": {
    "execution": {
     "iopub.execute_input": "2021-10-16T09:11:25.847119Z",
     "iopub.status.busy": "2021-10-16T09:11:25.846477Z",
     "iopub.status.idle": "2021-10-16T09:11:25.852474Z",
     "shell.execute_reply": "2021-10-16T09:11:25.853044Z",
     "shell.execute_reply.started": "2021-10-16T08:56:20.030035Z"
    },
    "papermill": {
     "duration": 0.048247,
     "end_time": "2021-10-16T09:11:25.853213",
     "exception": false,
     "start_time": "2021-10-16T09:11:25.804966",
     "status": "completed"
    },
    "tags": []
   },
   "outputs": [
    {
     "data": {
      "text/plain": [
       "array([[30,  0],\n",
       "       [ 0, 31]])"
      ]
     },
     "execution_count": 24,
     "metadata": {},
     "output_type": "execute_result"
    }
   ],
   "source": [
    "# Making the Confusion Matrix\n",
    "dtc_cm = confusion_matrix(y_test, y_pred_dtc)\n",
    "dtc_cm\n"
   ]
  },
  {
   "cell_type": "code",
   "execution_count": 25,
   "id": "23686351",
   "metadata": {
    "execution": {
     "iopub.execute_input": "2021-10-16T09:11:25.939065Z",
     "iopub.status.busy": "2021-10-16T09:11:25.938416Z",
     "iopub.status.idle": "2021-10-16T09:11:25.941396Z",
     "shell.execute_reply": "2021-10-16T09:11:25.941979Z",
     "shell.execute_reply.started": "2021-10-16T09:05:05.550350Z"
    },
    "papermill": {
     "duration": 0.04973,
     "end_time": "2021-10-16T09:11:25.942149",
     "exception": false,
     "start_time": "2021-10-16T09:11:25.892419",
     "status": "completed"
    },
    "tags": []
   },
   "outputs": [
    {
     "data": {
      "text/plain": [
       "1.0"
      ]
     },
     "execution_count": 25,
     "metadata": {},
     "output_type": "execute_result"
    }
   ],
   "source": [
    "dtc_acc = accuracy_score(y_test, y_pred_dtc) \n",
    "dtc_acc"
   ]
  },
  {
   "cell_type": "code",
   "execution_count": 26,
   "id": "8debf66f",
   "metadata": {
    "execution": {
     "iopub.execute_input": "2021-10-16T09:11:26.026627Z",
     "iopub.status.busy": "2021-10-16T09:11:26.025915Z",
     "iopub.status.idle": "2021-10-16T09:11:26.032608Z",
     "shell.execute_reply": "2021-10-16T09:11:26.033211Z",
     "shell.execute_reply.started": "2021-10-16T09:05:29.393389Z"
    },
    "papermill": {
     "duration": 0.050482,
     "end_time": "2021-10-16T09:11:26.033414",
     "exception": false,
     "start_time": "2021-10-16T09:11:25.982932",
     "status": "completed"
    },
    "tags": []
   },
   "outputs": [
    {
     "data": {
      "text/plain": [
       "DecisionTreeClassifier()"
      ]
     },
     "execution_count": 26,
     "metadata": {},
     "output_type": "execute_result"
    }
   ],
   "source": [
    "from sklearn.tree import DecisionTreeClassifier\n",
    "dtc = DecisionTreeClassifier()\n",
    "dtc.fit(X_train,y_train )"
   ]
  },
  {
   "cell_type": "markdown",
   "id": "aa385e62",
   "metadata": {
    "papermill": {
     "duration": 0.040518,
     "end_time": "2021-10-16T09:11:26.114140",
     "exception": false,
     "start_time": "2021-10-16T09:11:26.073622",
     "status": "completed"
    },
    "tags": []
   },
   "source": [
    " # 3. Conclusion\n",
    "The signs of a woman having a heart attack are much less noticeable than the signs of a male. In women, heart attacks may feel uncomfortable squeezing, pressure, fullness, or pain in the center of the chest. It may also cause pain in one or both arms, the back, neck, jaw or stomach, shortness of breath, nausea and other symptoms. Men experience typical symptoms of heart attack, such as chest pain , discomfort, and stress. They may also experience pain in other areas, such as arms, neck , back, and jaw, and shortness of breath, sweating, and discomfort that mimics heartburn.\n",
    "\n",
    "It’s a lot of work for an organ which is just like a large fist and weighs between 8 and 12 ounces.\n",
    "The Area under the ROC curve is 87.09% which is somewhat satisfactory.\n",
    "\n",
    "The model predicted with 86.88% accuracy. The model is more specific than sensitive.\n",
    "\n",
    "According to this model the major features contributing in precision of predicting model are shown in the heatmap in Ascending order."
   ]
  }
 ],
 "metadata": {
  "kernelspec": {
   "display_name": "Python 3",
   "language": "python",
   "name": "python3"
  },
  "language_info": {
   "codemirror_mode": {
    "name": "ipython",
    "version": 3
   },
   "file_extension": ".py",
   "mimetype": "text/x-python",
   "name": "python",
   "nbconvert_exporter": "python",
   "pygments_lexer": "ipython3",
   "version": "3.7.10"
  },
  "papermill": {
   "default_parameters": {},
   "duration": 17.538814,
   "end_time": "2021-10-16T09:11:26.764913",
   "environment_variables": {},
   "exception": null,
   "input_path": "__notebook__.ipynb",
   "output_path": "__notebook__.ipynb",
   "parameters": {},
   "start_time": "2021-10-16T09:11:09.226099",
   "version": "2.3.3"
  }
 },
 "nbformat": 4,
 "nbformat_minor": 5
}
